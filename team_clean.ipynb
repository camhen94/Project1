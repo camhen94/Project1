{
 "cells": [
  {
   "cell_type": "code",
   "execution_count": 2,
   "metadata": {},
   "outputs": [],
   "source": [
    "import pandas as pd\n",
    "import numpy as np \n",
    "from pathlib import Path\n",
    "import os"
   ]
  },
  {
   "cell_type": "code",
   "execution_count": 41,
   "metadata": {},
   "outputs": [],
   "source": [
    "#Get the file read into the notebook\n",
    "nfl_file_path = Path(\"data_files/team_stats_2003_2023.csv\")\n",
    "nfl_data = pd.read_csv(nfl_file_path)"
   ]
  },
  {
   "cell_type": "code",
   "execution_count": 42,
   "metadata": {},
   "outputs": [
    {
     "data": {
      "text/plain": [
       "{0: 'year',\n",
       " 1: 'team',\n",
       " 2: 'wins',\n",
       " 3: 'losses',\n",
       " 4: 'win_loss_perc',\n",
       " 5: 'points',\n",
       " 6: 'points_opp',\n",
       " 7: 'points_diff',\n",
       " 8: 'mov',\n",
       " 9: 'g',\n",
       " 10: 'total_yards',\n",
       " 11: 'plays_offense',\n",
       " 12: 'yds_per_play_offense',\n",
       " 13: 'turnovers',\n",
       " 14: 'fumbles_lost',\n",
       " 15: 'first_down',\n",
       " 16: 'pass_cmp',\n",
       " 17: 'pass_att',\n",
       " 18: 'pass_yds',\n",
       " 19: 'pass_td',\n",
       " 20: 'pass_int',\n",
       " 21: 'pass_net_yds_per_att',\n",
       " 22: 'pass_fd',\n",
       " 23: 'rush_att',\n",
       " 24: 'rush_yds',\n",
       " 25: 'rush_td',\n",
       " 26: 'rush_yds_per_att',\n",
       " 27: 'rush_fd',\n",
       " 28: 'penalties',\n",
       " 29: 'penalties_yds',\n",
       " 30: 'pen_fd',\n",
       " 31: 'score_pct',\n",
       " 32: 'turnover_pct',\n",
       " 33: 'exp_pts_tot',\n",
       " 34: 'ties'}"
      ]
     },
     "execution_count": 42,
     "metadata": {},
     "output_type": "execute_result"
    }
   ],
   "source": [
    "#create dictionary that contains the column indices\n",
    "col_index_dict = dict(enumerate(nfl_data.columns))\n",
    "col_index_dict"
   ]
  },
  {
   "cell_type": "code",
   "execution_count": 14,
   "metadata": {},
   "outputs": [
    {
     "data": {
      "text/plain": [
       "{0: 'year',\n",
       " 1: 'team',\n",
       " 2: 'wins',\n",
       " 3: 'losses',\n",
       " 4: 'win_loss_perc',\n",
       " 5: 'points',\n",
       " 6: 'points_opp',\n",
       " 7: 'points_diff',\n",
       " 8: 'mov',\n",
       " 9: 'g',\n",
       " 10: 'total_yards',\n",
       " 11: 'plays_offense',\n",
       " 12: 'yds_per_play_offense',\n",
       " 13: 'turnovers',\n",
       " 14: 'fumbles_lost',\n",
       " 15: 'first_down',\n",
       " 16: 'pass_cmp',\n",
       " 17: 'pass_att',\n",
       " 18: 'pass_yds',\n",
       " 19: 'pass_td',\n",
       " 20: 'pass_int',\n",
       " 21: 'pass_net_yds_per_att',\n",
       " 22: 'pass_fd',\n",
       " 23: 'rush_att',\n",
       " 24: 'rush_yds',\n",
       " 25: 'rush_td',\n",
       " 26: 'rush_yds_per_att',\n",
       " 27: 'rush_fd',\n",
       " 28: 'penalties',\n",
       " 29: 'penalties_yds',\n",
       " 30: 'pen_fd',\n",
       " 31: 'score_pct',\n",
       " 32: 'turnover_pct',\n",
       " 33: 'exp_pts_tot',\n",
       " 34: 'ties'}"
      ]
     },
     "execution_count": 14,
     "metadata": {},
     "output_type": "execute_result"
    }
   ],
   "source": [
    "#create a list of division teams\n",
    "divisions = {afc_east: [\"New England Patriots\", \"Buffalo Bills\"]}"
   ]
  },
  {
   "cell_type": "code",
   "execution_count": 44,
   "metadata": {},
   "outputs": [],
   "source": [
    "for row, team in enumerate(nfl_data[\"team\"]):\n",
    "    if team == \"Oakland Raiders\":\n",
    "        nfl_data.loc[row, \"team\"] = \"Las Vegas Raiders\" \n",
    "    elif team == \"St. Louis Rams\":\n",
    "        nfl_data.loc[row, \"team\"] = \"Los Angeles Rams\"\n",
    "    elif team == \"Washington Redskins\":    \n",
    "        nfl_data.loc[row, \"team\"] = \"Washington Commanders\"\n",
    "    elif team == \"Washington Football Team\":\n",
    "        nfl_data.loc[row, \"team\"] = \"Washington Commanders\"\n",
    "    elif team == \"San Diego Chargers\":\n",
    "        nfl_data.loc[row, \"team\"] = \"Los Angeles Chargers\"\n",
    "\n",
    "\n"
   ]
  },
  {
   "cell_type": "code",
   "execution_count": 45,
   "metadata": {},
   "outputs": [
    {
     "data": {
      "text/plain": [
       "array(['New England Patriots', 'Miami Dolphins', 'Buffalo Bills',\n",
       "       'New York Jets', 'Baltimore Ravens', 'Cincinnati Bengals',\n",
       "       'Pittsburgh Steelers', 'Cleveland Browns', 'Indianapolis Colts',\n",
       "       'Tennessee Titans', 'Jacksonville Jaguars', 'Houston Texans',\n",
       "       'Kansas City Chiefs', 'Denver Broncos', 'Las Vegas Raiders',\n",
       "       'Los Angeles Chargers', 'Philadelphia Eagles', 'Dallas Cowboys',\n",
       "       'Washington Commanders', 'New York Giants', 'Green Bay Packers',\n",
       "       'Minnesota Vikings', 'Chicago Bears', 'Detroit Lions',\n",
       "       'Carolina Panthers', 'New Orleans Saints', 'Tampa Bay Buccaneers',\n",
       "       'Atlanta Falcons', 'Los Angeles Rams', 'Seattle Seahawks',\n",
       "       'San Francisco 49ers', 'Arizona Cardinals'], dtype=object)"
      ]
     },
     "execution_count": 45,
     "metadata": {},
     "output_type": "execute_result"
    }
   ],
   "source": [
    "teams = nfl_data[\"team\"].unique()\n",
    "teams"
   ]
  }
 ],
 "metadata": {
  "kernelspec": {
   "display_name": "Python 3",
   "language": "python",
   "name": "python3"
  },
  "language_info": {
   "codemirror_mode": {
    "name": "ipython",
    "version": 3
   },
   "file_extension": ".py",
   "mimetype": "text/x-python",
   "name": "python",
   "nbconvert_exporter": "python",
   "pygments_lexer": "ipython3",
   "version": "3.12.1"
  }
 },
 "nbformat": 4,
 "nbformat_minor": 2
}
